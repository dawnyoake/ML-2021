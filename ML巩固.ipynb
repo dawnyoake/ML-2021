{
 "cells": [
  {
   "cell_type": "markdown",
   "metadata": {},
   "source": [
    "### 专项复习"
   ]
  },
  {
   "cell_type": "markdown",
   "metadata": {},
   "source": [
    "- 特征工程的意义和作用\n",
    "    \n",
    "- 使用过哪些不同形式的特征工程\n",
    "    "
   ]
  },
  {
   "cell_type": "markdown",
   "metadata": {},
   "source": [
    "- 什么是交叉验证，其作用是什么？\n",
    "    "
   ]
  },
  {
   "cell_type": "markdown",
   "metadata": {},
   "source": [
    "- 简述线性回归模型的回归原理\n",
    "    \n",
    "- 线性回归是如何求解最小误差的？\n",
    "- 回归模型的评价指标有哪些\n",
    "    \n",
    "- 线性回归的损失函数如何表示？\n",
    "- 是不是损失函数返回的损失值越小越好呢？\n",
    "- L0，L1和L2范式：\n",
    "    \n",
    "- 简述什么是过拟合和欠拟合？\n",
    "    \n",
    "- 简述什么是多项式回归？\n"
   ]
  },
  {
   "cell_type": "markdown",
   "metadata": {},
   "source": [
    "- 接触过哪些主要的概率模型\n",
    "- 简述TPR和FPR的计算原理\n",
    "    \n",
    "- 简述分类模型的评价指标有哪些\n",
    "    \n",
    "- 什么是roc\n",
    "    "
   ]
  },
  {
   "cell_type": "markdown",
   "metadata": {},
   "source": [
    "- 阐述sigmod函数的作用\n",
    "- 逻辑回归为何可以返回分类的概率？\n",
    "- 逻辑回归和线性回归之间有何联系？\n",
    "- 逻辑回归的优点有哪些？\n",
    "    \n",
    "- 逻辑回归的损失函数是什么？\n",
    "- 逻辑回归如何处理过拟合？\n",
    "- L1和L2正则化的区别？\n",
    "- 逻辑回归常用的模型参数有哪些？"
   ]
  },
  {
   "cell_type": "markdown",
   "metadata": {},
   "source": [
    "- 聚类算法聚出的类有什么含义呢?这些类有什么样的性质?\n",
    "    \n",
    "- Kmeans如何计算距离？\n",
    "    \n",
    "- Kmeans有损失函数吗？\n",
    "- 什么时候会使用Kmeans的predict方法？\n",
    "- 聚类算法的评价指标是什么？\n"
   ]
  },
  {
   "cell_type": "markdown",
   "metadata": {},
   "source": [
    "- SVM的主要适用场景？\n",
    "    \n",
    "- 支持向量机的分类原理\n",
    "    "
   ]
  },
  {
   "cell_type": "markdown",
   "metadata": {},
   "source": [
    "- 决策树的基本原理是什么？\n",
    "- 决策树算法的处理核心是什么？\n",
    "   \n",
    "- 构建决策树的常用算法有哪些？\n",
    "- 简述ID3算法原理\n",
    "- 什么是信息熵和信息增益？\n",
    "   \n",
    "- ID3有哪些局限性？\n",
    "   \n",
    "- 常用的模型剪枝参数有哪些？\n",
    "    \n",
    "- 超参数如何调优？\n",
    "   "
   ]
  },
  {
   "cell_type": "markdown",
   "metadata": {},
   "source": [
    "- 简述集成算法的核心思想？\n",
    "- 实现集成学习的方法有哪些？\n",
    "- 常见的集成模型有哪些？\n",
    "    "
   ]
  },
  {
   "cell_type": "markdown",
   "metadata": {},
   "source": [
    "- 建模前对数据做过哪些形式的数据处理和探究？\n",
    "    "
   ]
  },
  {
   "cell_type": "markdown",
   "metadata": {},
   "source": [
    "- 怎么处理数据中的离群值?\n",
    "   "
   ]
  },
  {
   "cell_type": "markdown",
   "metadata": {},
   "source": [
    "- 用于评估预测模型的矩阵称为什么?\n",
    "    "
   ]
  },
  {
   "cell_type": "markdown",
   "metadata": {},
   "source": [
    "- 简述 k-means 聚类的基本思想、步骤以及 k-means 的缺点。\n",
    "    "
   ]
  },
  {
   "cell_type": "markdown",
   "metadata": {},
   "source": [
    "- 监督学习和无监督学习有什么区别?\n"
   ]
  },
  {
   "cell_type": "markdown",
   "metadata": {},
   "source": [
    "- 为什么说朴素贝叶斯是“朴素”的？\n",
    "  "
   ]
  },
  {
   "cell_type": "markdown",
   "metadata": {},
   "source": [
    "- SVM 最重要的思想是什么？\n"
   ]
  },
  {
   "cell_type": "markdown",
   "metadata": {},
   "source": [
    "- K-Means 和 KNN 算法的区别是什么？\n",
    "    "
   ]
  },
  {
   "cell_type": "markdown",
   "metadata": {},
   "source": [
    "- Python数据分析通常使用的环境、工具和库都有哪些？库功能是什么？\n",
    "    "
   ]
  }
 ],
 "metadata": {
  "kernelspec": {
   "display_name": "Python 3",
   "language": "python",
   "name": "python3"
  },
  "language_info": {
   "codemirror_mode": {
    "name": "ipython",
    "version": 3
   },
   "file_extension": ".py",
   "mimetype": "text/x-python",
   "name": "python",
   "nbconvert_exporter": "python",
   "pygments_lexer": "ipython3",
   "version": "3.7.1"
  }
 },
 "nbformat": 4,
 "nbformat_minor": 2
}
