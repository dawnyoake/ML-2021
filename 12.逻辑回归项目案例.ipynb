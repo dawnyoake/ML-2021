{
 "cells": [
  {
   "cell_type": "code",
   "execution_count": 1,
   "metadata": {},
   "outputs": [],
   "source": [
    "import pandas as pd\n",
    "import matplotlib.pyplot as plt\n",
    "import numpy as np\n",
    "from pandas import DataFrame,Series\n",
    "%matplotlib inline\n",
    "\n",
    "from pylab import mpl\n",
    "mpl.rcParams['font.sans-serif'] = ['FangSong'] # 指定默认字体\n",
    "mpl.rcParams['axes.unicode_minus'] = False # 解决保存图像是负号'-'显示为方块的问题"
   ]
  },
  {
   "cell_type": "code",
   "execution_count": 2,
   "metadata": {},
   "outputs": [],
   "source": [
    "states={'SeriousDlqin2yrs':'好坏客户',\n",
    "        'RevolvingUtilizationOfUnsecuredLines':'可用额度比值',\n",
    "        'age':'年龄',\n",
    "        'NumberOfTime30-59DaysPastDueNotWorse':'逾期30-59天笔数',\n",
    "        'DebtRatio':'负债率',\n",
    "        'MonthlyIncome':'月收入',\n",
    "        'NumberOfOpenCreditLinesAndLoans':'信贷数量',\n",
    "        'NumberOfTimes90DaysLate':'逾期90天笔数',\n",
    "        'NumberRealEstateLoansOrLines':'固定资产贷款量',\n",
    "        'NumberOfTime60-89DaysPastDueNotWorse':'逾期60-89天笔数',\n",
    "        'NumberOfDependents':'家属数量'}"
   ]
  },
  {
   "cell_type": "code",
   "execution_count": 3,
   "metadata": {},
   "outputs": [
    {
     "data": {
      "text/html": [
       "<div>\n",
       "<style scoped>\n",
       "    .dataframe tbody tr th:only-of-type {\n",
       "        vertical-align: middle;\n",
       "    }\n",
       "\n",
       "    .dataframe tbody tr th {\n",
       "        vertical-align: top;\n",
       "    }\n",
       "\n",
       "    .dataframe thead th {\n",
       "        text-align: right;\n",
       "    }\n",
       "</style>\n",
       "<table border=\"1\" class=\"dataframe\">\n",
       "  <thead>\n",
       "    <tr style=\"text-align: right;\">\n",
       "      <th></th>\n",
       "      <th>SeriousDlqin2yrs</th>\n",
       "      <th>RevolvingUtilizationOfUnsecuredLines</th>\n",
       "      <th>age</th>\n",
       "      <th>NumberOfTime30-59DaysPastDueNotWorse</th>\n",
       "      <th>DebtRatio</th>\n",
       "      <th>MonthlyIncome</th>\n",
       "      <th>NumberOfOpenCreditLinesAndLoans</th>\n",
       "      <th>NumberOfTimes90DaysLate</th>\n",
       "      <th>NumberRealEstateLoansOrLines</th>\n",
       "      <th>NumberOfTime60-89DaysPastDueNotWorse</th>\n",
       "      <th>NumberOfDependents</th>\n",
       "    </tr>\n",
       "  </thead>\n",
       "  <tbody>\n",
       "    <tr>\n",
       "      <th>1</th>\n",
       "      <td>1</td>\n",
       "      <td>0.766127</td>\n",
       "      <td>45</td>\n",
       "      <td>2</td>\n",
       "      <td>0.802982</td>\n",
       "      <td>9120.0</td>\n",
       "      <td>13</td>\n",
       "      <td>0</td>\n",
       "      <td>6</td>\n",
       "      <td>0</td>\n",
       "      <td>2.0</td>\n",
       "    </tr>\n",
       "    <tr>\n",
       "      <th>2</th>\n",
       "      <td>0</td>\n",
       "      <td>0.957151</td>\n",
       "      <td>40</td>\n",
       "      <td>0</td>\n",
       "      <td>0.121876</td>\n",
       "      <td>2600.0</td>\n",
       "      <td>4</td>\n",
       "      <td>0</td>\n",
       "      <td>0</td>\n",
       "      <td>0</td>\n",
       "      <td>1.0</td>\n",
       "    </tr>\n",
       "    <tr>\n",
       "      <th>3</th>\n",
       "      <td>0</td>\n",
       "      <td>0.658180</td>\n",
       "      <td>38</td>\n",
       "      <td>1</td>\n",
       "      <td>0.085113</td>\n",
       "      <td>3042.0</td>\n",
       "      <td>2</td>\n",
       "      <td>1</td>\n",
       "      <td>0</td>\n",
       "      <td>0</td>\n",
       "      <td>0.0</td>\n",
       "    </tr>\n",
       "    <tr>\n",
       "      <th>4</th>\n",
       "      <td>0</td>\n",
       "      <td>0.233810</td>\n",
       "      <td>30</td>\n",
       "      <td>0</td>\n",
       "      <td>0.036050</td>\n",
       "      <td>3300.0</td>\n",
       "      <td>5</td>\n",
       "      <td>0</td>\n",
       "      <td>0</td>\n",
       "      <td>0</td>\n",
       "      <td>0.0</td>\n",
       "    </tr>\n",
       "    <tr>\n",
       "      <th>5</th>\n",
       "      <td>0</td>\n",
       "      <td>0.907239</td>\n",
       "      <td>49</td>\n",
       "      <td>1</td>\n",
       "      <td>0.024926</td>\n",
       "      <td>63588.0</td>\n",
       "      <td>7</td>\n",
       "      <td>0</td>\n",
       "      <td>1</td>\n",
       "      <td>0</td>\n",
       "      <td>0.0</td>\n",
       "    </tr>\n",
       "  </tbody>\n",
       "</table>\n",
       "</div>"
      ],
      "text/plain": [
       "   SeriousDlqin2yrs  RevolvingUtilizationOfUnsecuredLines  age  \\\n",
       "1                 1                              0.766127   45   \n",
       "2                 0                              0.957151   40   \n",
       "3                 0                              0.658180   38   \n",
       "4                 0                              0.233810   30   \n",
       "5                 0                              0.907239   49   \n",
       "\n",
       "   NumberOfTime30-59DaysPastDueNotWorse  DebtRatio  MonthlyIncome  \\\n",
       "1                                     2   0.802982         9120.0   \n",
       "2                                     0   0.121876         2600.0   \n",
       "3                                     1   0.085113         3042.0   \n",
       "4                                     0   0.036050         3300.0   \n",
       "5                                     1   0.024926        63588.0   \n",
       "\n",
       "   NumberOfOpenCreditLinesAndLoans  NumberOfTimes90DaysLate  \\\n",
       "1                               13                        0   \n",
       "2                                4                        0   \n",
       "3                                2                        1   \n",
       "4                                5                        0   \n",
       "5                                7                        0   \n",
       "\n",
       "   NumberRealEstateLoansOrLines  NumberOfTime60-89DaysPastDueNotWorse  \\\n",
       "1                             6                                     0   \n",
       "2                             0                                     0   \n",
       "3                             0                                     0   \n",
       "4                             0                                     0   \n",
       "5                             1                                     0   \n",
       "\n",
       "   NumberOfDependents  \n",
       "1                 2.0  \n",
       "2                 1.0  \n",
       "3                 0.0  \n",
       "4                 0.0  \n",
       "5                 0.0  "
      ]
     },
     "execution_count": 3,
     "metadata": {},
     "output_type": "execute_result"
    }
   ],
   "source": [
    "data = pd.read_csv('./datasets/rankingcard.csv',index_col=0)\n",
    "data.head()"
   ]
  },
  {
   "cell_type": "code",
   "execution_count": 4,
   "metadata": {},
   "outputs": [],
   "source": [
    "data.rename(columns=states,inplace=True) #修改列索引为中文"
   ]
  },
  {
   "cell_type": "code",
   "execution_count": 5,
   "metadata": {},
   "outputs": [
    {
     "data": {
      "text/html": [
       "<div>\n",
       "<style scoped>\n",
       "    .dataframe tbody tr th:only-of-type {\n",
       "        vertical-align: middle;\n",
       "    }\n",
       "\n",
       "    .dataframe tbody tr th {\n",
       "        vertical-align: top;\n",
       "    }\n",
       "\n",
       "    .dataframe thead th {\n",
       "        text-align: right;\n",
       "    }\n",
       "</style>\n",
       "<table border=\"1\" class=\"dataframe\">\n",
       "  <thead>\n",
       "    <tr style=\"text-align: right;\">\n",
       "      <th></th>\n",
       "      <th>好坏客户</th>\n",
       "      <th>可用额度比值</th>\n",
       "      <th>年龄</th>\n",
       "      <th>逾期30-59天笔数</th>\n",
       "      <th>负债率</th>\n",
       "      <th>月收入</th>\n",
       "      <th>信贷数量</th>\n",
       "      <th>逾期90天笔数</th>\n",
       "      <th>固定资产贷款量</th>\n",
       "      <th>逾期60-89天笔数</th>\n",
       "      <th>家属数量</th>\n",
       "    </tr>\n",
       "  </thead>\n",
       "  <tbody>\n",
       "    <tr>\n",
       "      <th>1</th>\n",
       "      <td>1</td>\n",
       "      <td>0.766127</td>\n",
       "      <td>45</td>\n",
       "      <td>2</td>\n",
       "      <td>0.802982</td>\n",
       "      <td>9120.0</td>\n",
       "      <td>13</td>\n",
       "      <td>0</td>\n",
       "      <td>6</td>\n",
       "      <td>0</td>\n",
       "      <td>2.0</td>\n",
       "    </tr>\n",
       "    <tr>\n",
       "      <th>2</th>\n",
       "      <td>0</td>\n",
       "      <td>0.957151</td>\n",
       "      <td>40</td>\n",
       "      <td>0</td>\n",
       "      <td>0.121876</td>\n",
       "      <td>2600.0</td>\n",
       "      <td>4</td>\n",
       "      <td>0</td>\n",
       "      <td>0</td>\n",
       "      <td>0</td>\n",
       "      <td>1.0</td>\n",
       "    </tr>\n",
       "    <tr>\n",
       "      <th>3</th>\n",
       "      <td>0</td>\n",
       "      <td>0.658180</td>\n",
       "      <td>38</td>\n",
       "      <td>1</td>\n",
       "      <td>0.085113</td>\n",
       "      <td>3042.0</td>\n",
       "      <td>2</td>\n",
       "      <td>1</td>\n",
       "      <td>0</td>\n",
       "      <td>0</td>\n",
       "      <td>0.0</td>\n",
       "    </tr>\n",
       "    <tr>\n",
       "      <th>4</th>\n",
       "      <td>0</td>\n",
       "      <td>0.233810</td>\n",
       "      <td>30</td>\n",
       "      <td>0</td>\n",
       "      <td>0.036050</td>\n",
       "      <td>3300.0</td>\n",
       "      <td>5</td>\n",
       "      <td>0</td>\n",
       "      <td>0</td>\n",
       "      <td>0</td>\n",
       "      <td>0.0</td>\n",
       "    </tr>\n",
       "    <tr>\n",
       "      <th>5</th>\n",
       "      <td>0</td>\n",
       "      <td>0.907239</td>\n",
       "      <td>49</td>\n",
       "      <td>1</td>\n",
       "      <td>0.024926</td>\n",
       "      <td>63588.0</td>\n",
       "      <td>7</td>\n",
       "      <td>0</td>\n",
       "      <td>1</td>\n",
       "      <td>0</td>\n",
       "      <td>0.0</td>\n",
       "    </tr>\n",
       "  </tbody>\n",
       "</table>\n",
       "</div>"
      ],
      "text/plain": [
       "   好坏客户    可用额度比值  年龄  逾期30-59天笔数       负债率      月收入  信贷数量  逾期90天笔数  固定资产贷款量  \\\n",
       "1     1  0.766127  45           2  0.802982   9120.0    13        0        6   \n",
       "2     0  0.957151  40           0  0.121876   2600.0     4        0        0   \n",
       "3     0  0.658180  38           1  0.085113   3042.0     2        1        0   \n",
       "4     0  0.233810  30           0  0.036050   3300.0     5        0        0   \n",
       "5     0  0.907239  49           1  0.024926  63588.0     7        0        1   \n",
       "\n",
       "   逾期60-89天笔数  家属数量  \n",
       "1           0   2.0  \n",
       "2           0   1.0  \n",
       "3           0   0.0  \n",
       "4           0   0.0  \n",
       "5           0   0.0  "
      ]
     },
     "execution_count": 5,
     "metadata": {},
     "output_type": "execute_result"
    }
   ],
   "source": [
    "data.head()#好坏客户为标签"
   ]
  },
  {
   "cell_type": "code",
   "execution_count": 6,
   "metadata": {},
   "outputs": [
    {
     "data": {
      "text/plain": [
       "(150000, 11)"
      ]
     },
     "execution_count": 6,
     "metadata": {},
     "output_type": "execute_result"
    }
   ],
   "source": [
    "data.shape"
   ]
  },
  {
   "cell_type": "markdown",
   "metadata": {},
   "source": [
    "- 去除重复的行数据\n",
    "    - 现实数据，尤其是银行业数据，可能会存在的一个问题就是样本重复，即有超过一行的样本所显示的所有特征都一样。\n",
    "    - 可以适当的恢复索引"
   ]
  },
  {
   "cell_type": "code",
   "execution_count": 7,
   "metadata": {},
   "outputs": [
    {
     "data": {
      "text/plain": [
       "609"
      ]
     },
     "execution_count": 7,
     "metadata": {},
     "output_type": "execute_result"
    }
   ],
   "source": [
    "data.duplicated().sum()"
   ]
  },
  {
   "cell_type": "code",
   "execution_count": 8,
   "metadata": {},
   "outputs": [],
   "source": [
    "data.drop_duplicates(inplace=True)"
   ]
  },
  {
   "cell_type": "code",
   "execution_count": 6,
   "metadata": {},
   "outputs": [],
   "source": [
    "data.index = range(data.shape[0]) #恢复行索引（恢复成连续的索引序号）"
   ]
  },
  {
   "cell_type": "code",
   "execution_count": 7,
   "metadata": {},
   "outputs": [
    {
     "data": {
      "text/plain": [
       "(150000, 11)"
      ]
     },
     "execution_count": 7,
     "metadata": {},
     "output_type": "execute_result"
    }
   ],
   "source": [
    "data.shape"
   ]
  },
  {
   "cell_type": "markdown",
   "metadata": {},
   "source": [
    "- 缺失数据处理\n",
    "- 可以适当的恢复索引"
   ]
  },
  {
   "cell_type": "code",
   "execution_count": 8,
   "metadata": {},
   "outputs": [
    {
     "data": {
      "text/plain": [
       "好坏客户          False\n",
       "可用额度比值        False\n",
       "年龄            False\n",
       "逾期30-59天笔数    False\n",
       "负债率           False\n",
       "月收入            True\n",
       "信贷数量          False\n",
       "逾期90天笔数       False\n",
       "固定资产贷款量       False\n",
       "逾期60-89天笔数    False\n",
       "家属数量           True\n",
       "dtype: bool"
      ]
     },
     "execution_count": 8,
     "metadata": {},
     "output_type": "execute_result"
    }
   ],
   "source": [
    "data.isnull().any(axis=0)"
   ]
  },
  {
   "cell_type": "code",
   "execution_count": 9,
   "metadata": {},
   "outputs": [
    {
     "data": {
      "text/plain": [
       "好坏客户              0\n",
       "可用额度比值            0\n",
       "年龄                0\n",
       "逾期30-59天笔数        0\n",
       "负债率               0\n",
       "月收入           29731\n",
       "信贷数量              0\n",
       "逾期90天笔数           0\n",
       "固定资产贷款量           0\n",
       "逾期60-89天笔数        0\n",
       "家属数量           3924\n",
       "dtype: int64"
      ]
     },
     "execution_count": 9,
     "metadata": {},
     "output_type": "execute_result"
    }
   ],
   "source": [
    "data.isnull().sum(axis=0)"
   ]
  },
  {
   "cell_type": "markdown",
   "metadata": {},
   "source": [
    "- 家属人数列缺失数据比较少可以考虑直接删除，月收入缺失数据比较多，使用均值填充。\n",
    "    - 新的填充方式：df.fillna({col:xxx})"
   ]
  },
  {
   "cell_type": "code",
   "execution_count": 10,
   "metadata": {},
   "outputs": [],
   "source": [
    "data = data.loc[data['家属数量'].notnull()]"
   ]
  },
  {
   "cell_type": "code",
   "execution_count": 11,
   "metadata": {},
   "outputs": [],
   "source": [
    "#对月收入的缺失值使用均值填充\n",
    "data.fillna({'月收入':data['月收入'].mean()},inplace=True)"
   ]
  },
  {
   "cell_type": "code",
   "execution_count": 16,
   "metadata": {},
   "outputs": [],
   "source": [
    "data.index = range(data.shape[0])"
   ]
  },
  {
   "cell_type": "code",
   "execution_count": 17,
   "metadata": {},
   "outputs": [
    {
     "data": {
      "text/plain": [
       "好坏客户          0\n",
       "可用额度比值        0\n",
       "年龄            0\n",
       "逾期30-59天笔数    0\n",
       "负债率           0\n",
       "月收入           0\n",
       "信贷数量          0\n",
       "逾期90天笔数       0\n",
       "固定资产贷款量       0\n",
       "逾期60-89天笔数    0\n",
       "家属数量          0\n",
       "dtype: int64"
      ]
     },
     "execution_count": 17,
     "metadata": {},
     "output_type": "execute_result"
    }
   ],
   "source": [
    "data.isnull().sum()"
   ]
  },
  {
   "cell_type": "markdown",
   "metadata": {},
   "source": [
    "- 异常数据处理\n",
    "    - 但在银行数据中，我们希望排除的“异常值”不是一些超高或超低的数字，而是 一些不符合常理的数据:比如，收入不能为负数，但是一个超高水平的收入却是合理的，可以存在的。所以在银行 业中，我们往往就使用普通的描述性统计来观察数据的异常与否与数据的分布情况。注意，这种方法只能在特征量 有限的情况下进行，如果有几百个特征又无法成功降维或特征选择不管用"
   ]
  },
  {
   "cell_type": "code",
   "execution_count": 19,
   "metadata": {},
   "outputs": [
    {
     "data": {
      "text/html": [
       "<div>\n",
       "<style scoped>\n",
       "    .dataframe tbody tr th:only-of-type {\n",
       "        vertical-align: middle;\n",
       "    }\n",
       "\n",
       "    .dataframe tbody tr th {\n",
       "        vertical-align: top;\n",
       "    }\n",
       "\n",
       "    .dataframe thead th {\n",
       "        text-align: right;\n",
       "    }\n",
       "</style>\n",
       "<table border=\"1\" class=\"dataframe\">\n",
       "  <thead>\n",
       "    <tr style=\"text-align: right;\">\n",
       "      <th></th>\n",
       "      <th>count</th>\n",
       "      <th>mean</th>\n",
       "      <th>std</th>\n",
       "      <th>min</th>\n",
       "      <th>25%</th>\n",
       "      <th>50%</th>\n",
       "      <th>75%</th>\n",
       "      <th>max</th>\n",
       "    </tr>\n",
       "  </thead>\n",
       "  <tbody>\n",
       "    <tr>\n",
       "      <th>好坏客户</th>\n",
       "      <td>145563.0</td>\n",
       "      <td>0.067538</td>\n",
       "      <td>0.250952</td>\n",
       "      <td>0.0</td>\n",
       "      <td>0.000000</td>\n",
       "      <td>0.000000</td>\n",
       "      <td>0.000000</td>\n",
       "      <td>1.0</td>\n",
       "    </tr>\n",
       "    <tr>\n",
       "      <th>可用额度比值</th>\n",
       "      <td>145563.0</td>\n",
       "      <td>5.941378</td>\n",
       "      <td>250.510835</td>\n",
       "      <td>0.0</td>\n",
       "      <td>0.031218</td>\n",
       "      <td>0.158817</td>\n",
       "      <td>0.561085</td>\n",
       "      <td>50708.0</td>\n",
       "    </tr>\n",
       "    <tr>\n",
       "      <th>年龄</th>\n",
       "      <td>145563.0</td>\n",
       "      <td>52.110701</td>\n",
       "      <td>14.567652</td>\n",
       "      <td>0.0</td>\n",
       "      <td>41.000000</td>\n",
       "      <td>52.000000</td>\n",
       "      <td>62.000000</td>\n",
       "      <td>107.0</td>\n",
       "    </tr>\n",
       "    <tr>\n",
       "      <th>逾期30-59天笔数</th>\n",
       "      <td>145563.0</td>\n",
       "      <td>0.389185</td>\n",
       "      <td>3.756944</td>\n",
       "      <td>0.0</td>\n",
       "      <td>0.000000</td>\n",
       "      <td>0.000000</td>\n",
       "      <td>0.000000</td>\n",
       "      <td>98.0</td>\n",
       "    </tr>\n",
       "    <tr>\n",
       "      <th>负债率</th>\n",
       "      <td>145563.0</td>\n",
       "      <td>334.548251</td>\n",
       "      <td>1947.228209</td>\n",
       "      <td>0.0</td>\n",
       "      <td>0.173934</td>\n",
       "      <td>0.359090</td>\n",
       "      <td>0.770641</td>\n",
       "      <td>329664.0</td>\n",
       "    </tr>\n",
       "    <tr>\n",
       "      <th>月收入</th>\n",
       "      <td>145563.0</td>\n",
       "      <td>6675.098269</td>\n",
       "      <td>13074.358896</td>\n",
       "      <td>0.0</td>\n",
       "      <td>3816.000000</td>\n",
       "      <td>6400.000000</td>\n",
       "      <td>7500.000000</td>\n",
       "      <td>3008750.0</td>\n",
       "    </tr>\n",
       "    <tr>\n",
       "      <th>信贷数量</th>\n",
       "      <td>145563.0</td>\n",
       "      <td>8.553788</td>\n",
       "      <td>5.141132</td>\n",
       "      <td>0.0</td>\n",
       "      <td>5.000000</td>\n",
       "      <td>8.000000</td>\n",
       "      <td>11.000000</td>\n",
       "      <td>58.0</td>\n",
       "    </tr>\n",
       "    <tr>\n",
       "      <th>逾期90天笔数</th>\n",
       "      <td>145563.0</td>\n",
       "      <td>0.231309</td>\n",
       "      <td>3.728803</td>\n",
       "      <td>0.0</td>\n",
       "      <td>0.000000</td>\n",
       "      <td>0.000000</td>\n",
       "      <td>0.000000</td>\n",
       "      <td>98.0</td>\n",
       "    </tr>\n",
       "    <tr>\n",
       "      <th>固定资产贷款量</th>\n",
       "      <td>145563.0</td>\n",
       "      <td>1.033346</td>\n",
       "      <td>1.133115</td>\n",
       "      <td>0.0</td>\n",
       "      <td>0.000000</td>\n",
       "      <td>1.000000</td>\n",
       "      <td>2.000000</td>\n",
       "      <td>54.0</td>\n",
       "    </tr>\n",
       "    <tr>\n",
       "      <th>逾期60-89天笔数</th>\n",
       "      <td>145563.0</td>\n",
       "      <td>0.205622</td>\n",
       "      <td>3.712455</td>\n",
       "      <td>0.0</td>\n",
       "      <td>0.000000</td>\n",
       "      <td>0.000000</td>\n",
       "      <td>0.000000</td>\n",
       "      <td>98.0</td>\n",
       "    </tr>\n",
       "    <tr>\n",
       "      <th>家属数量</th>\n",
       "      <td>145563.0</td>\n",
       "      <td>0.759863</td>\n",
       "      <td>1.116141</td>\n",
       "      <td>0.0</td>\n",
       "      <td>0.000000</td>\n",
       "      <td>0.000000</td>\n",
       "      <td>1.000000</td>\n",
       "      <td>20.0</td>\n",
       "    </tr>\n",
       "  </tbody>\n",
       "</table>\n",
       "</div>"
      ],
      "text/plain": [
       "               count         mean           std  min          25%  \\\n",
       "好坏客户        145563.0     0.067538      0.250952  0.0     0.000000   \n",
       "可用额度比值      145563.0     5.941378    250.510835  0.0     0.031218   \n",
       "年龄          145563.0    52.110701     14.567652  0.0    41.000000   \n",
       "逾期30-59天笔数  145563.0     0.389185      3.756944  0.0     0.000000   \n",
       "负债率         145563.0   334.548251   1947.228209  0.0     0.173934   \n",
       "月收入         145563.0  6675.098269  13074.358896  0.0  3816.000000   \n",
       "信贷数量        145563.0     8.553788      5.141132  0.0     5.000000   \n",
       "逾期90天笔数     145563.0     0.231309      3.728803  0.0     0.000000   \n",
       "固定资产贷款量     145563.0     1.033346      1.133115  0.0     0.000000   \n",
       "逾期60-89天笔数  145563.0     0.205622      3.712455  0.0     0.000000   \n",
       "家属数量        145563.0     0.759863      1.116141  0.0     0.000000   \n",
       "\n",
       "                    50%          75%        max  \n",
       "好坏客户           0.000000     0.000000        1.0  \n",
       "可用额度比值         0.158817     0.561085    50708.0  \n",
       "年龄            52.000000    62.000000      107.0  \n",
       "逾期30-59天笔数     0.000000     0.000000       98.0  \n",
       "负债率            0.359090     0.770641   329664.0  \n",
       "月收入         6400.000000  7500.000000  3008750.0  \n",
       "信贷数量           8.000000    11.000000       58.0  \n",
       "逾期90天笔数        0.000000     0.000000       98.0  \n",
       "固定资产贷款量        1.000000     2.000000       54.0  \n",
       "逾期60-89天笔数     0.000000     0.000000       98.0  \n",
       "家属数量           0.000000     1.000000       20.0  "
      ]
     },
     "execution_count": 19,
     "metadata": {},
     "output_type": "execute_result"
    }
   ],
   "source": [
    "data.describe().T"
   ]
  },
  {
   "cell_type": "code",
   "execution_count": 20,
   "metadata": {},
   "outputs": [
    {
     "data": {
      "text/html": [
       "<div>\n",
       "<style scoped>\n",
       "    .dataframe tbody tr th:only-of-type {\n",
       "        vertical-align: middle;\n",
       "    }\n",
       "\n",
       "    .dataframe tbody tr th {\n",
       "        vertical-align: top;\n",
       "    }\n",
       "\n",
       "    .dataframe thead th {\n",
       "        text-align: right;\n",
       "    }\n",
       "</style>\n",
       "<table border=\"1\" class=\"dataframe\">\n",
       "  <thead>\n",
       "    <tr style=\"text-align: right;\">\n",
       "      <th></th>\n",
       "      <th>count</th>\n",
       "      <th>mean</th>\n",
       "      <th>std</th>\n",
       "      <th>min</th>\n",
       "      <th>10%</th>\n",
       "      <th>25%</th>\n",
       "      <th>50%</th>\n",
       "      <th>75%</th>\n",
       "      <th>90%</th>\n",
       "      <th>99%</th>\n",
       "      <th>max</th>\n",
       "    </tr>\n",
       "  </thead>\n",
       "  <tbody>\n",
       "    <tr>\n",
       "      <th>好坏客户</th>\n",
       "      <td>145563.0</td>\n",
       "      <td>0.067538</td>\n",
       "      <td>0.250952</td>\n",
       "      <td>0.0</td>\n",
       "      <td>0.000000</td>\n",
       "      <td>0.000000</td>\n",
       "      <td>0.000000</td>\n",
       "      <td>0.000000</td>\n",
       "      <td>0.000000</td>\n",
       "      <td>1.000000</td>\n",
       "      <td>1.0</td>\n",
       "    </tr>\n",
       "    <tr>\n",
       "      <th>可用额度比值</th>\n",
       "      <td>145563.0</td>\n",
       "      <td>5.941378</td>\n",
       "      <td>250.510835</td>\n",
       "      <td>0.0</td>\n",
       "      <td>0.003455</td>\n",
       "      <td>0.031218</td>\n",
       "      <td>0.158817</td>\n",
       "      <td>0.561085</td>\n",
       "      <td>0.976557</td>\n",
       "      <td>1.093822</td>\n",
       "      <td>50708.0</td>\n",
       "    </tr>\n",
       "    <tr>\n",
       "      <th>年龄</th>\n",
       "      <td>145563.0</td>\n",
       "      <td>52.110701</td>\n",
       "      <td>14.567652</td>\n",
       "      <td>0.0</td>\n",
       "      <td>33.000000</td>\n",
       "      <td>41.000000</td>\n",
       "      <td>52.000000</td>\n",
       "      <td>62.000000</td>\n",
       "      <td>72.000000</td>\n",
       "      <td>86.000000</td>\n",
       "      <td>107.0</td>\n",
       "    </tr>\n",
       "    <tr>\n",
       "      <th>逾期30-59天笔数</th>\n",
       "      <td>145563.0</td>\n",
       "      <td>0.389185</td>\n",
       "      <td>3.756944</td>\n",
       "      <td>0.0</td>\n",
       "      <td>0.000000</td>\n",
       "      <td>0.000000</td>\n",
       "      <td>0.000000</td>\n",
       "      <td>0.000000</td>\n",
       "      <td>1.000000</td>\n",
       "      <td>4.000000</td>\n",
       "      <td>98.0</td>\n",
       "    </tr>\n",
       "    <tr>\n",
       "      <th>负债率</th>\n",
       "      <td>145563.0</td>\n",
       "      <td>334.548251</td>\n",
       "      <td>1947.228209</td>\n",
       "      <td>0.0</td>\n",
       "      <td>0.034398</td>\n",
       "      <td>0.173934</td>\n",
       "      <td>0.359090</td>\n",
       "      <td>0.770641</td>\n",
       "      <td>1150.000000</td>\n",
       "      <td>4934.380000</td>\n",
       "      <td>329664.0</td>\n",
       "    </tr>\n",
       "    <tr>\n",
       "      <th>月收入</th>\n",
       "      <td>145563.0</td>\n",
       "      <td>6675.098269</td>\n",
       "      <td>13074.358896</td>\n",
       "      <td>0.0</td>\n",
       "      <td>2300.000000</td>\n",
       "      <td>3816.000000</td>\n",
       "      <td>6400.000000</td>\n",
       "      <td>7500.000000</td>\n",
       "      <td>10833.000000</td>\n",
       "      <td>23334.380000</td>\n",
       "      <td>3008750.0</td>\n",
       "    </tr>\n",
       "    <tr>\n",
       "      <th>信贷数量</th>\n",
       "      <td>145563.0</td>\n",
       "      <td>8.553788</td>\n",
       "      <td>5.141132</td>\n",
       "      <td>0.0</td>\n",
       "      <td>3.000000</td>\n",
       "      <td>5.000000</td>\n",
       "      <td>8.000000</td>\n",
       "      <td>11.000000</td>\n",
       "      <td>15.000000</td>\n",
       "      <td>25.000000</td>\n",
       "      <td>58.0</td>\n",
       "    </tr>\n",
       "    <tr>\n",
       "      <th>逾期90天笔数</th>\n",
       "      <td>145563.0</td>\n",
       "      <td>0.231309</td>\n",
       "      <td>3.728803</td>\n",
       "      <td>0.0</td>\n",
       "      <td>0.000000</td>\n",
       "      <td>0.000000</td>\n",
       "      <td>0.000000</td>\n",
       "      <td>0.000000</td>\n",
       "      <td>0.000000</td>\n",
       "      <td>3.000000</td>\n",
       "      <td>98.0</td>\n",
       "    </tr>\n",
       "    <tr>\n",
       "      <th>固定资产贷款量</th>\n",
       "      <td>145563.0</td>\n",
       "      <td>1.033346</td>\n",
       "      <td>1.133115</td>\n",
       "      <td>0.0</td>\n",
       "      <td>0.000000</td>\n",
       "      <td>0.000000</td>\n",
       "      <td>1.000000</td>\n",
       "      <td>2.000000</td>\n",
       "      <td>2.000000</td>\n",
       "      <td>5.000000</td>\n",
       "      <td>54.0</td>\n",
       "    </tr>\n",
       "    <tr>\n",
       "      <th>逾期60-89天笔数</th>\n",
       "      <td>145563.0</td>\n",
       "      <td>0.205622</td>\n",
       "      <td>3.712455</td>\n",
       "      <td>0.0</td>\n",
       "      <td>0.000000</td>\n",
       "      <td>0.000000</td>\n",
       "      <td>0.000000</td>\n",
       "      <td>0.000000</td>\n",
       "      <td>0.000000</td>\n",
       "      <td>2.000000</td>\n",
       "      <td>98.0</td>\n",
       "    </tr>\n",
       "    <tr>\n",
       "      <th>家属数量</th>\n",
       "      <td>145563.0</td>\n",
       "      <td>0.759863</td>\n",
       "      <td>1.116141</td>\n",
       "      <td>0.0</td>\n",
       "      <td>0.000000</td>\n",
       "      <td>0.000000</td>\n",
       "      <td>0.000000</td>\n",
       "      <td>1.000000</td>\n",
       "      <td>2.000000</td>\n",
       "      <td>4.000000</td>\n",
       "      <td>20.0</td>\n",
       "    </tr>\n",
       "  </tbody>\n",
       "</table>\n",
       "</div>"
      ],
      "text/plain": [
       "               count         mean           std  min          10%  \\\n",
       "好坏客户        145563.0     0.067538      0.250952  0.0     0.000000   \n",
       "可用额度比值      145563.0     5.941378    250.510835  0.0     0.003455   \n",
       "年龄          145563.0    52.110701     14.567652  0.0    33.000000   \n",
       "逾期30-59天笔数  145563.0     0.389185      3.756944  0.0     0.000000   \n",
       "负债率         145563.0   334.548251   1947.228209  0.0     0.034398   \n",
       "月收入         145563.0  6675.098269  13074.358896  0.0  2300.000000   \n",
       "信贷数量        145563.0     8.553788      5.141132  0.0     3.000000   \n",
       "逾期90天笔数     145563.0     0.231309      3.728803  0.0     0.000000   \n",
       "固定资产贷款量     145563.0     1.033346      1.133115  0.0     0.000000   \n",
       "逾期60-89天笔数  145563.0     0.205622      3.712455  0.0     0.000000   \n",
       "家属数量        145563.0     0.759863      1.116141  0.0     0.000000   \n",
       "\n",
       "                    25%          50%          75%           90%           99%  \\\n",
       "好坏客户           0.000000     0.000000     0.000000      0.000000      1.000000   \n",
       "可用额度比值         0.031218     0.158817     0.561085      0.976557      1.093822   \n",
       "年龄            41.000000    52.000000    62.000000     72.000000     86.000000   \n",
       "逾期30-59天笔数     0.000000     0.000000     0.000000      1.000000      4.000000   \n",
       "负债率            0.173934     0.359090     0.770641   1150.000000   4934.380000   \n",
       "月收入         3816.000000  6400.000000  7500.000000  10833.000000  23334.380000   \n",
       "信贷数量           5.000000     8.000000    11.000000     15.000000     25.000000   \n",
       "逾期90天笔数        0.000000     0.000000     0.000000      0.000000      3.000000   \n",
       "固定资产贷款量        0.000000     1.000000     2.000000      2.000000      5.000000   \n",
       "逾期60-89天笔数     0.000000     0.000000     0.000000      0.000000      2.000000   \n",
       "家属数量           0.000000     0.000000     1.000000      2.000000      4.000000   \n",
       "\n",
       "                  max  \n",
       "好坏客户              1.0  \n",
       "可用额度比值        50708.0  \n",
       "年龄              107.0  \n",
       "逾期30-59天笔数       98.0  \n",
       "负债率          329664.0  \n",
       "月收入         3008750.0  \n",
       "信贷数量             58.0  \n",
       "逾期90天笔数          98.0  \n",
       "固定资产贷款量          54.0  \n",
       "逾期60-89天笔数       98.0  \n",
       "家属数量             20.0  "
      ]
     },
     "execution_count": 20,
     "metadata": {},
     "output_type": "execute_result"
    }
   ],
   "source": [
    "data.describe([0.1,0.25,0.5,0.75,0.9,0.99]).T"
   ]
  },
  {
   "cell_type": "markdown",
   "metadata": {},
   "source": [
    "- 年龄的最小值居然有0，这不符合银行的业务需求，即便是儿童账户也要至少8岁，我们可以 查看一下年龄为0的人有多少"
   ]
  },
  {
   "cell_type": "code",
   "execution_count": 21,
   "metadata": {},
   "outputs": [
    {
     "data": {
      "text/plain": [
       "1"
      ]
     },
     "execution_count": 21,
     "metadata": {},
     "output_type": "execute_result"
    }
   ],
   "source": [
    "(data['年龄'] == 0).sum()"
   ]
  },
  {
   "cell_type": "markdown",
   "metadata": {},
   "source": [
    "- 发现只有一个人年龄为0，可以判断这肯定是录入失误造成的，可以当成是缺失值来处理，直接删除掉这个样本\n",
    "- 可以适当的恢复索引\n"
   ]
  },
  {
   "cell_type": "code",
   "execution_count": 22,
   "metadata": {},
   "outputs": [],
   "source": [
    "data = data.loc[data['年龄'] != 0]"
   ]
  },
  {
   "cell_type": "markdown",
   "metadata": {},
   "source": [
    "- 另外，有三个指标看起来很奇怪:逾期30-59天笔数,逾期60-89天笔数,逾期90天笔数(这三个特征指的是两年内逾期次数),这三个特征最大值为98，看起来非常奇怪。一个人在过去两年内逾期35~59天98次，一年6个60天，两年内逾期98次这是怎么算出来的？将其删除\n",
    "- 可以适当的恢复索引"
   ]
  },
  {
   "cell_type": "code",
   "execution_count": 23,
   "metadata": {},
   "outputs": [],
   "source": [
    "data = data.loc[data['逾期30-59天笔数'] < 90]\n",
    "data = data.loc[data['逾期60-89天笔数'] < 90]\n",
    "data = data.loc[data['逾期90天笔数'] < 90]"
   ]
  },
  {
   "cell_type": "code",
   "execution_count": 24,
   "metadata": {},
   "outputs": [],
   "source": [
    "data.index = range(data.shape[0])"
   ]
  },
  {
   "cell_type": "code",
   "execution_count": 25,
   "metadata": {},
   "outputs": [
    {
     "data": {
      "text/html": [
       "<div>\n",
       "<style scoped>\n",
       "    .dataframe tbody tr th:only-of-type {\n",
       "        vertical-align: middle;\n",
       "    }\n",
       "\n",
       "    .dataframe tbody tr th {\n",
       "        vertical-align: top;\n",
       "    }\n",
       "\n",
       "    .dataframe thead th {\n",
       "        text-align: right;\n",
       "    }\n",
       "</style>\n",
       "<table border=\"1\" class=\"dataframe\">\n",
       "  <thead>\n",
       "    <tr style=\"text-align: right;\">\n",
       "      <th></th>\n",
       "      <th>count</th>\n",
       "      <th>mean</th>\n",
       "      <th>std</th>\n",
       "      <th>min</th>\n",
       "      <th>10%</th>\n",
       "      <th>25%</th>\n",
       "      <th>50%</th>\n",
       "      <th>75%</th>\n",
       "      <th>90%</th>\n",
       "      <th>99%</th>\n",
       "      <th>max</th>\n",
       "    </tr>\n",
       "  </thead>\n",
       "  <tbody>\n",
       "    <tr>\n",
       "      <th>好坏客户</th>\n",
       "      <td>145354.0</td>\n",
       "      <td>0.066775</td>\n",
       "      <td>0.249633</td>\n",
       "      <td>0.0</td>\n",
       "      <td>0.000000</td>\n",
       "      <td>0.000000</td>\n",
       "      <td>0.000000</td>\n",
       "      <td>0.000000</td>\n",
       "      <td>0.00000</td>\n",
       "      <td>1.000000</td>\n",
       "      <td>1.0</td>\n",
       "    </tr>\n",
       "    <tr>\n",
       "      <th>可用额度比值</th>\n",
       "      <td>145354.0</td>\n",
       "      <td>5.948483</td>\n",
       "      <td>250.690803</td>\n",
       "      <td>0.0</td>\n",
       "      <td>0.003445</td>\n",
       "      <td>0.031126</td>\n",
       "      <td>0.158095</td>\n",
       "      <td>0.558272</td>\n",
       "      <td>0.97396</td>\n",
       "      <td>1.093944</td>\n",
       "      <td>50708.0</td>\n",
       "    </tr>\n",
       "    <tr>\n",
       "      <th>年龄</th>\n",
       "      <td>145354.0</td>\n",
       "      <td>52.133233</td>\n",
       "      <td>14.557148</td>\n",
       "      <td>21.0</td>\n",
       "      <td>33.000000</td>\n",
       "      <td>41.000000</td>\n",
       "      <td>52.000000</td>\n",
       "      <td>62.000000</td>\n",
       "      <td>72.00000</td>\n",
       "      <td>86.000000</td>\n",
       "      <td>107.0</td>\n",
       "    </tr>\n",
       "    <tr>\n",
       "      <th>逾期30-59天笔数</th>\n",
       "      <td>145354.0</td>\n",
       "      <td>0.249570</td>\n",
       "      <td>0.703097</td>\n",
       "      <td>0.0</td>\n",
       "      <td>0.000000</td>\n",
       "      <td>0.000000</td>\n",
       "      <td>0.000000</td>\n",
       "      <td>0.000000</td>\n",
       "      <td>1.00000</td>\n",
       "      <td>3.000000</td>\n",
       "      <td>13.0</td>\n",
       "    </tr>\n",
       "    <tr>\n",
       "      <th>负债率</th>\n",
       "      <td>145354.0</td>\n",
       "      <td>335.020926</td>\n",
       "      <td>1948.587506</td>\n",
       "      <td>0.0</td>\n",
       "      <td>0.035759</td>\n",
       "      <td>0.174686</td>\n",
       "      <td>0.359533</td>\n",
       "      <td>0.771582</td>\n",
       "      <td>1155.00000</td>\n",
       "      <td>4936.000000</td>\n",
       "      <td>329664.0</td>\n",
       "    </tr>\n",
       "    <tr>\n",
       "      <th>月收入</th>\n",
       "      <td>145354.0</td>\n",
       "      <td>6679.158070</td>\n",
       "      <td>13082.838330</td>\n",
       "      <td>0.0</td>\n",
       "      <td>2300.000000</td>\n",
       "      <td>3825.250000</td>\n",
       "      <td>6400.000000</td>\n",
       "      <td>7500.000000</td>\n",
       "      <td>10838.00000</td>\n",
       "      <td>23342.050000</td>\n",
       "      <td>3008750.0</td>\n",
       "    </tr>\n",
       "    <tr>\n",
       "      <th>信贷数量</th>\n",
       "      <td>145354.0</td>\n",
       "      <td>8.566032</td>\n",
       "      <td>5.134644</td>\n",
       "      <td>0.0</td>\n",
       "      <td>3.000000</td>\n",
       "      <td>5.000000</td>\n",
       "      <td>8.000000</td>\n",
       "      <td>11.000000</td>\n",
       "      <td>15.00000</td>\n",
       "      <td>25.000000</td>\n",
       "      <td>58.0</td>\n",
       "    </tr>\n",
       "    <tr>\n",
       "      <th>逾期90天笔数</th>\n",
       "      <td>145354.0</td>\n",
       "      <td>0.091473</td>\n",
       "      <td>0.489090</td>\n",
       "      <td>0.0</td>\n",
       "      <td>0.000000</td>\n",
       "      <td>0.000000</td>\n",
       "      <td>0.000000</td>\n",
       "      <td>0.000000</td>\n",
       "      <td>0.00000</td>\n",
       "      <td>2.000000</td>\n",
       "      <td>17.0</td>\n",
       "    </tr>\n",
       "    <tr>\n",
       "      <th>固定资产贷款量</th>\n",
       "      <td>145354.0</td>\n",
       "      <td>1.034818</td>\n",
       "      <td>1.133251</td>\n",
       "      <td>0.0</td>\n",
       "      <td>0.000000</td>\n",
       "      <td>0.000000</td>\n",
       "      <td>1.000000</td>\n",
       "      <td>2.000000</td>\n",
       "      <td>2.00000</td>\n",
       "      <td>5.000000</td>\n",
       "      <td>54.0</td>\n",
       "    </tr>\n",
       "    <tr>\n",
       "      <th>逾期60-89天笔数</th>\n",
       "      <td>145354.0</td>\n",
       "      <td>0.065750</td>\n",
       "      <td>0.331951</td>\n",
       "      <td>0.0</td>\n",
       "      <td>0.000000</td>\n",
       "      <td>0.000000</td>\n",
       "      <td>0.000000</td>\n",
       "      <td>0.000000</td>\n",
       "      <td>0.00000</td>\n",
       "      <td>2.000000</td>\n",
       "      <td>11.0</td>\n",
       "    </tr>\n",
       "    <tr>\n",
       "      <th>家属数量</th>\n",
       "      <td>145354.0</td>\n",
       "      <td>0.760337</td>\n",
       "      <td>1.116377</td>\n",
       "      <td>0.0</td>\n",
       "      <td>0.000000</td>\n",
       "      <td>0.000000</td>\n",
       "      <td>0.000000</td>\n",
       "      <td>1.000000</td>\n",
       "      <td>2.00000</td>\n",
       "      <td>4.000000</td>\n",
       "      <td>20.0</td>\n",
       "    </tr>\n",
       "  </tbody>\n",
       "</table>\n",
       "</div>"
      ],
      "text/plain": [
       "               count         mean           std   min          10%  \\\n",
       "好坏客户        145354.0     0.066775      0.249633   0.0     0.000000   \n",
       "可用额度比值      145354.0     5.948483    250.690803   0.0     0.003445   \n",
       "年龄          145354.0    52.133233     14.557148  21.0    33.000000   \n",
       "逾期30-59天笔数  145354.0     0.249570      0.703097   0.0     0.000000   \n",
       "负债率         145354.0   335.020926   1948.587506   0.0     0.035759   \n",
       "月收入         145354.0  6679.158070  13082.838330   0.0  2300.000000   \n",
       "信贷数量        145354.0     8.566032      5.134644   0.0     3.000000   \n",
       "逾期90天笔数     145354.0     0.091473      0.489090   0.0     0.000000   \n",
       "固定资产贷款量     145354.0     1.034818      1.133251   0.0     0.000000   \n",
       "逾期60-89天笔数  145354.0     0.065750      0.331951   0.0     0.000000   \n",
       "家属数量        145354.0     0.760337      1.116377   0.0     0.000000   \n",
       "\n",
       "                    25%          50%          75%          90%           99%  \\\n",
       "好坏客户           0.000000     0.000000     0.000000      0.00000      1.000000   \n",
       "可用额度比值         0.031126     0.158095     0.558272      0.97396      1.093944   \n",
       "年龄            41.000000    52.000000    62.000000     72.00000     86.000000   \n",
       "逾期30-59天笔数     0.000000     0.000000     0.000000      1.00000      3.000000   \n",
       "负债率            0.174686     0.359533     0.771582   1155.00000   4936.000000   \n",
       "月收入         3825.250000  6400.000000  7500.000000  10838.00000  23342.050000   \n",
       "信贷数量           5.000000     8.000000    11.000000     15.00000     25.000000   \n",
       "逾期90天笔数        0.000000     0.000000     0.000000      0.00000      2.000000   \n",
       "固定资产贷款量        0.000000     1.000000     2.000000      2.00000      5.000000   \n",
       "逾期60-89天笔数     0.000000     0.000000     0.000000      0.00000      2.000000   \n",
       "家属数量           0.000000     0.000000     1.000000      2.00000      4.000000   \n",
       "\n",
       "                  max  \n",
       "好坏客户              1.0  \n",
       "可用额度比值        50708.0  \n",
       "年龄              107.0  \n",
       "逾期30-59天笔数       13.0  \n",
       "负债率          329664.0  \n",
       "月收入         3008750.0  \n",
       "信贷数量             58.0  \n",
       "逾期90天笔数          17.0  \n",
       "固定资产贷款量          54.0  \n",
       "逾期60-89天笔数       11.0  \n",
       "家属数量             20.0  "
      ]
     },
     "execution_count": 25,
     "metadata": {},
     "output_type": "execute_result"
    }
   ],
   "source": [
    "data.describe([0.1,0.25,0.5,0.75,0.9,0.99]).T"
   ]
  },
  {
   "cell_type": "markdown",
   "metadata": {},
   "source": [
    "- 查看标签的分布情况（是否存在样本类别分布不均衡现象）"
   ]
  },
  {
   "cell_type": "code",
   "execution_count": 26,
   "metadata": {},
   "outputs": [
    {
     "data": {
      "text/plain": [
       "0    0.933225\n",
       "1    0.066775\n",
       "Name: 好坏客户, dtype: float64"
      ]
     },
     "execution_count": 26,
     "metadata": {},
     "output_type": "execute_result"
    }
   ],
   "source": [
    "data['好坏客户'].value_counts() / data['好坏客户'].value_counts().sum()"
   ]
  },
  {
   "cell_type": "markdown",
   "metadata": {},
   "source": [
    "### 特征选择\n",
    "- 单变量分析\n",
    "- IV&WOE编码"
   ]
  },
  {
   "cell_type": "markdown",
   "metadata": {},
   "source": [
    "- 单变量分析\n",
    "    - 是分析每一个自变量和因变量之间的联系，此处以年龄和好坏客户为例进行分析。"
   ]
  },
  {
   "cell_type": "code",
   "execution_count": 29,
   "metadata": {},
   "outputs": [
    {
     "data": {
      "text/plain": [
       "(38.2, 55.4]      58019\n",
       "(55.4, 72.6]      46139\n",
       "(20.914, 38.2]    28020\n",
       "(72.6, 89.8]      12623\n",
       "(89.8, 107.0]       553\n",
       "Name: 年龄, dtype: int64"
      ]
     },
     "execution_count": 29,
     "metadata": {},
     "output_type": "execute_result"
    }
   ],
   "source": [
    "#对年龄进行分箱操作，分成5组，求解每一组中好坏客户的总量\n",
    "age_cut = pd.cut(data['年龄'],bins=5).sort_index()\n",
    "sum_cut = age_cut.value_counts()\n",
    "sum_cut"
   ]
  },
  {
   "cell_type": "code",
   "execution_count": 31,
   "metadata": {},
   "outputs": [],
   "source": [
    "#求各组的好坏客户数\n",
    "bad_cut = pd.crosstab(age_cut,data['好坏客户'])[1]\n",
    "good_cut =  pd.crosstab(age_cut,data['好坏客户'])[0]"
   ]
  },
  {
   "cell_type": "code",
   "execution_count": 33,
   "metadata": {},
   "outputs": [
    {
     "data": {
      "text/plain": [
       "(20.914, 38.2]    0.105175\n",
       "(38.2, 55.4]      0.079526\n",
       "(55.4, 72.6]      0.040053\n",
       "(72.6, 89.8]      0.022578\n",
       "(89.8, 107.0]     0.021700\n",
       "dtype: float64"
      ]
     },
     "execution_count": 33,
     "metadata": {},
     "output_type": "execute_result"
    }
   ],
   "source": [
    "#求各组坏客户的占比\n",
    "bad_p = bad_cut / sum_cut\n",
    "bad_p"
   ]
  },
  {
   "cell_type": "code",
   "execution_count": 34,
   "metadata": {},
   "outputs": [
    {
     "data": {
      "text/html": [
       "<div>\n",
       "<style scoped>\n",
       "    .dataframe tbody tr th:only-of-type {\n",
       "        vertical-align: middle;\n",
       "    }\n",
       "\n",
       "    .dataframe tbody tr th {\n",
       "        vertical-align: top;\n",
       "    }\n",
       "\n",
       "    .dataframe thead th {\n",
       "        text-align: right;\n",
       "    }\n",
       "</style>\n",
       "<table border=\"1\" class=\"dataframe\">\n",
       "  <thead>\n",
       "    <tr style=\"text-align: right;\">\n",
       "      <th></th>\n",
       "      <th>坏客户数量</th>\n",
       "      <th>好客户数量</th>\n",
       "      <th>坏客户占比</th>\n",
       "    </tr>\n",
       "  </thead>\n",
       "  <tbody>\n",
       "    <tr>\n",
       "      <th>(20.914, 38.2]</th>\n",
       "      <td>2947</td>\n",
       "      <td>25073</td>\n",
       "      <td>0.105175</td>\n",
       "    </tr>\n",
       "    <tr>\n",
       "      <th>(38.2, 55.4]</th>\n",
       "      <td>4614</td>\n",
       "      <td>53405</td>\n",
       "      <td>0.079526</td>\n",
       "    </tr>\n",
       "    <tr>\n",
       "      <th>(55.4, 72.6]</th>\n",
       "      <td>1848</td>\n",
       "      <td>44291</td>\n",
       "      <td>0.040053</td>\n",
       "    </tr>\n",
       "    <tr>\n",
       "      <th>(72.6, 89.8]</th>\n",
       "      <td>285</td>\n",
       "      <td>12338</td>\n",
       "      <td>0.022578</td>\n",
       "    </tr>\n",
       "    <tr>\n",
       "      <th>(89.8, 107.0]</th>\n",
       "      <td>12</td>\n",
       "      <td>541</td>\n",
       "      <td>0.021700</td>\n",
       "    </tr>\n",
       "  </tbody>\n",
       "</table>\n",
       "</div>"
      ],
      "text/plain": [
       "                坏客户数量  好客户数量     坏客户占比\n",
       "(20.914, 38.2]   2947  25073  0.105175\n",
       "(38.2, 55.4]     4614  53405  0.079526\n",
       "(55.4, 72.6]     1848  44291  0.040053\n",
       "(72.6, 89.8]      285  12338  0.022578\n",
       "(89.8, 107.0]      12    541  0.021700"
      ]
     },
     "execution_count": 34,
     "metadata": {},
     "output_type": "execute_result"
    }
   ],
   "source": [
    "age_cut_group = pd.concat((bad_cut,good_cut,bad_p),axis=1)\n",
    "age_cut_group.columns = ['坏客户数量','好客户数量','坏客户占比']\n",
    "age_cut_group"
   ]
  },
  {
   "cell_type": "code",
   "execution_count": 35,
   "metadata": {},
   "outputs": [
    {
     "data": {
      "text/plain": [
       "Text(0, 0.5, '客户数量')"
      ]
     },
     "execution_count": 35,
     "metadata": {},
     "output_type": "execute_result"
    },
    {
     "data": {
      "image/png": "[encoded data removed]",
      "text/plain": [
       "<Figure size 720x360 with 1 Axes>"
      ]
     },
     "metadata": {
      "needs_background": "light"
     },
     "output_type": "display_data"
    }
   ],
   "source": [
    "#使用柱状图表示不同年龄段好坏客户的数量\n",
    "ax1 = age_cut_group[['好客户数量','坏客户数量']].plot.bar(figsize=(10,5))\n",
    "ax1.set_xticklabels(age_cut_group.index,rotation=15)\n",
    "ax1.set_ylabel('客户数量')"
   ]
  },
  {
   "cell_type": "markdown",
   "metadata": {},
   "source": [
    "- 线形图展示坏客户率随年龄的变化趋势"
   ]
  },
  {
   "cell_type": "code",
   "execution_count": 37,
   "metadata": {},
   "outputs": [
    {
     "data": {
      "text/plain": [
       "Text(0.5, 1.0, '坏客户率随年龄的变化趋势图')"
      ]
     },
     "execution_count": 37,
     "metadata": {},
     "output_type": "execute_result"
    },
    {
     "data": {
      "image/png": "[encoded data removed]",
      "text/plain": [
       "<Figure size 720x360 with 1 Axes>"
      ]
     },
     "metadata": {
      "needs_background": "light"
     },
     "output_type": "display_data"
    }
   ],
   "source": [
    "ax11=age_cut_group[\"坏客户占比\"].plot(figsize=(10,5))\n",
    "# ax11.set_xticklabels([0,20,29,38,47,55,64,72,81,89,98,107])\n",
    "ax11.set_ylabel(\"坏客户率\")\n",
    "ax11.set_title(\"坏客户率随年龄的变化趋势图\")"
   ]
  },
  {
   "cell_type": "markdown",
   "metadata": {},
   "source": [
    "- 可以看出随着年龄的增长，坏客户率在降低，其中38~55之间变化幅度最大，说明年龄特征对好坏客户的判定影响还是比较大的"
   ]
  },
  {
   "cell_type": "markdown",
   "metadata": {},
   "source": [
    "- 使用IV值进行特征选择\n",
    "    "
   ]
  },
  {
   "cell_type": "code",
   "execution_count": 39,
   "metadata": {},
   "outputs": [],
   "source": [
    "#分箱操作\n",
    "cut1=pd.qcut(data[\"可用额度比值\"],4)\n",
    "cut2=pd.cut(data[\"年龄\"],8)\n",
    "bins3=[-1,0,1,3,5,13]\n",
    "cut3=pd.cut(data[\"逾期30-59天笔数\"],bins3)\n",
    "cut4=pd.qcut(data[\"负债率\"],3)\n",
    "cut5=pd.qcut(data[\"月收入\"],4)\n",
    "cut6=pd.cut(data[\"信贷数量\"],4)\n",
    "bins7=[-1, 0, 1, 3,5, 20]\n",
    "cut7=pd.cut(data[\"逾期90天笔数\"],bins7)\n",
    "bins8=[-1, 0,1,2, 3, 33]\n",
    "cut8=pd.cut(data[\"固定资产贷款量\"],bins8)\n",
    "bins9=[-1, 0, 1, 3, 12]\n",
    "cut9=pd.cut(data[\"逾期60-89天笔数\"],bins9)\n",
    "bins10=[-1, 0, 1, 2, 3, 5, 21]\n",
    "cut10=pd.cut(data[\"家属数量\"],bins10)"
   ]
  },
  {
   "cell_type": "code",
   "execution_count": 40,
   "metadata": {},
   "outputs": [
    {
     "data": {
      "text/plain": [
       "0    135648\n",
       "1      9706\n",
       "Name: 好坏客户, dtype: int64"
      ]
     },
     "execution_count": 40,
     "metadata": {},
     "output_type": "execute_result"
    }
   ],
   "source": [
    "data['好坏客户'].value_counts()"
   ]
  },
  {
   "cell_type": "code",
   "execution_count": 41,
   "metadata": {},
   "outputs": [],
   "source": [
    "#get_iv_data封装\n",
    "def get_iv_data(cut):\n",
    "    gb = data['好坏客户'].value_counts() #整个样本中好坏客户样本数量\n",
    "    gi = pd.crosstab(cut,data['好坏客户']) #每组中正反例样本数量\n",
    "    gbi = (gi[1] / gi[0]) / (gb[1] / gb[0])\n",
    "    woe = np.log(gbi)\n",
    "    #iv = (py-pn)*woe中的py一组中正例样本和整个样本集中正例样本的比例\n",
    "    iv = ((gi[1] / gb[1])-(gi[0]/gb[0]))*woe\n",
    "    return iv"
   ]
  },
  {
   "cell_type": "markdown",
   "metadata": {},
   "source": [
    "- 分箱的个数不同会导致特征IV值的不同，因此可以使用学习曲线找寻特征最优分箱数\n",
    "    - 以年龄特征为例，分箱个数范围5-15为例测试"
   ]
  },
  {
   "cell_type": "code",
   "execution_count": 43,
   "metadata": {
    "collapsed": true
   },
   "outputs": [
    {
     "data": {
      "text/plain": [
       "[<matplotlib.lines.Line2D at 0x11999be80>]"
      ]
     },
     "execution_count": 43,
     "metadata": {},
     "output_type": "execute_result"
    },
    {
     "data": {
      "image/png": "[encoded data removed]",
      "text/plain": [
       "<Figure size 432x288 with 1 Axes>"
      ]
     },
     "metadata": {
      "needs_background": "light"
     },
     "output_type": "display_data"
    }
   ],
   "source": [
    "ivs = []\n",
    "bins = []\n",
    "for i in range(5,15):\n",
    "    cut = pd.cut(data['年龄'],bins=i)\n",
    "    iv_value = get_iv_data(cut).sum()\n",
    "    ivs.append(iv_value)\n",
    "    bins.append(i)\n",
    "plt.plot(bins,ivs)"
   ]
  },
  {
   "cell_type": "markdown",
   "metadata": {},
   "source": [
    "- 求出每一列特征的IV值"
   ]
  },
  {
   "cell_type": "code",
   "execution_count": 44,
   "metadata": {},
   "outputs": [],
   "source": [
    "cut1_iv = get_iv_data(cut1).sum()\n",
    "cut2_iv = get_iv_data(cut2).sum()\n",
    "cut3_iv = get_iv_data(cut3).sum()\n",
    "cut4_iv = get_iv_data(cut4).sum()\n",
    "cut5_iv = get_iv_data(cut5).sum()\n",
    "cut6_iv = get_iv_data(cut6).sum()\n",
    "cut7_iv = get_iv_data(cut7).sum()\n",
    "cut8_iv = get_iv_data(cut8).sum()\n",
    "cut9_iv = get_iv_data(cut9).sum()\n",
    "cut10_iv = get_iv_data(cut10).sum()"
   ]
  },
  {
   "cell_type": "code",
   "execution_count": 45,
   "metadata": {},
   "outputs": [
    {
     "data": {
      "text/plain": [
       "Text(0, 0.5, 'IV')"
      ]
     },
     "execution_count": 45,
     "metadata": {},
     "output_type": "execute_result"
    },
    {
     "data": {
      "image/png": "[encoded data removed]",
      "text/plain": [
       "<Figure size 720x360 with 1 Axes>"
      ]
     },
     "metadata": {
      "needs_background": "light"
     },
     "output_type": "display_data"
    }
   ],
   "source": [
    "IV=pd.DataFrame([cut1_iv,cut2_iv,cut3_iv,cut4_iv,cut5_iv,cut6_iv,cut7_iv,cut8_iv,cut9_iv,cut10_iv],index=['可用额度比值','年龄','逾期30-59天笔数','负债率','月收入','信贷数量','逾期90天笔数','固定资产贷款量','逾期60-89天笔数','家属数量'],columns=['IV'])\n",
    "iv=IV.plot.bar(color='b',alpha=0.3,rot=30,figsize=(10,5),fontsize=(10))\n",
    "iv.set_title('特征变量与IV值分布图',fontsize=(15))\n",
    "iv.set_xlabel('特征变量',fontsize=(15))\n",
    "iv.set_ylabel('IV',fontsize=(15))"
   ]
  },
  {
   "cell_type": "code",
   "execution_count": 46,
   "metadata": {},
   "outputs": [
    {
     "data": {
      "text/plain": [
       "可用额度比值        0.989174\n",
       "逾期90天笔数       0.842678\n",
       "逾期30-59天笔数    0.718925\n",
       "逾期60-89天笔数    0.558689\n",
       "年龄            0.235474\n",
       "月收入           0.066258\n",
       "固定资产贷款量       0.059868\n",
       "家属数量          0.034721\n",
       "负债率           0.019231\n",
       "信贷数量          0.000821\n",
       "Name: IV, dtype: float64"
      ]
     },
     "execution_count": 46,
     "metadata": {},
     "output_type": "execute_result"
    }
   ],
   "source": [
    "IV['IV'].sort_values(ascending=False)"
   ]
  }
 ],
 "metadata": {
  "kernelspec": {
   "display_name": "Python 3 (ipykernel)",
   "language": "python",
   "name": "python3"
  },
  "language_info": {
   "codemirror_mode": {
    "name": "ipython",
    "version": 3
   },
   "file_extension": ".py",
   "mimetype": "text/x-python",
   "name": "python",
   "nbconvert_exporter": "python",
   "pygments_lexer": "ipython3",
   "version": "3.9.7"
  }
 },
 "nbformat": 4,
 "nbformat_minor": 2
}
