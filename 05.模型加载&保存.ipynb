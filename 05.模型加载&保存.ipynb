{
 "cells": [
  {
   "cell_type": "markdown",
   "metadata": {},
   "source": [
    "### Tensorflow 模型的保存和载入\n",
    "- Keras 模型保存和载入\n",
    "- SavedModel 模型保存和载入"
   ]
  },
  {
   "cell_type": "markdown",
   "metadata": {},
   "source": [
    "#### Keras 模型保存和载入\n",
    "- Keras 保存模型\n",
    "    - 使用 Keras 保存模型操作很简单，如模型为 model，可以使用:\n",
    "        - model.save('path_to_my_model.h5')\n",
    "        - 'path_to_my_model'为模型保存路径，'h5'为 HDF5 文件格式。使用model.save 来保存模型，可以把模型的结构，权值参数和优化器设置，代价函数设置， metrics 设置全部保存下来。"
   ]
  },
  {
   "cell_type": "code",
   "execution_count": 2,
   "metadata": {
    "collapsed": true
   },
   "outputs": [
    {
     "name": "stdout",
     "output_type": "stream",
     "text": [
      "Epoch 1/5\n",
      "1875/1875 [==============================] - 3s 1ms/step - loss: 0.0385 - accuracy: 0.7643 - val_loss: 0.0216 - val_accuracy: 0.8831\n",
      "Epoch 2/5\n",
      "1875/1875 [==============================] - 3s 1ms/step - loss: 0.0204 - accuracy: 0.8813 - val_loss: 0.0176 - val_accuracy: 0.8975\n",
      "Epoch 3/5\n",
      "1875/1875 [==============================] - 3s 2ms/step - loss: 0.0178 - accuracy: 0.8928 - val_loss: 0.0160 - val_accuracy: 0.9037\n",
      "Epoch 4/5\n",
      "1875/1875 [==============================] - 2s 1ms/step - loss: 0.0165 - accuracy: 0.8993 - val_loss: 0.0151 - val_accuracy: 0.9079\n",
      "Epoch 5/5\n",
      "1875/1875 [==============================] - 3s 1ms/step - loss: 0.0157 - accuracy: 0.9040 - val_loss: 0.0145 - val_accuracy: 0.9106\n"
     ]
    }
   ],
   "source": [
    "import tensorflow as tf\n",
    "from tensorflow.keras.optimizers import SGD\n",
    "# 载入数据集\n",
    "mnist = tf.keras.datasets.mnist\n",
    "# 载入数据，数据载入的时候就已经划分好训练集和测试集\n",
    "(x_train, y_train), (x_test, y_test) = mnist.load_data()\n",
    "# 对训练集和测试集的数据进行归一化处理，有助于提升模型训练速度 \n",
    "x_train, x_test = x_train / 255.0, x_test / 255.0\n",
    "# 把训练集和测试集的标签转为独热编码\n",
    "y_train = tf.keras.utils.to_categorical(y_train,num_classes=10)\n",
    "y_test = tf.keras.utils.to_categorical(y_test,num_classes=10)\n",
    "# 模型定义\n",
    "model = tf.keras.models.Sequential([\n",
    "tf.keras.layers.Flatten(input_shape=(28, 28)),\n",
    "tf.keras.layers.Dense(10, activation='softmax') ])\n",
    "# 定义优化器，代价函数\n",
    "sgd = SGD(0.2) \n",
    "model.compile(optimizer=sgd,\n",
    "                loss='mse',\n",
    "                metrics=['accuracy'])\n",
    "# 传入训练集数据和标签训练模型\n",
    "model.fit(x_train, y_train, epochs=5, batch_size=32, validation_data=(x_test,y_test))\n",
    "\n",
    "# 保存模型 \n",
    "model.save('my_model/mnist.h5')"
   ]
  },
  {
   "cell_type": "markdown",
   "metadata": {},
   "source": [
    "- Keras 载入模型\n",
    "    - 使用 Keras 载入模型操作也很简单，可以使用:\n",
    "        - tensorflow.keras.models.load_model('path_to_my_model.h5') \n",
    "        - 'path_to_my_model'为模型所在路径"
   ]
  },
  {
   "cell_type": "code",
   "execution_count": 18,
   "metadata": {},
   "outputs": [],
   "source": [
    "import tensorflow as tf\n",
    "from tensorflow.keras.models import load_model\n",
    "# 载入数据集\n",
    "mnist = tf.keras.datasets.mnist\n",
    "# 载入数据，数据载入的时候就已经划分好训练集和测试集\n",
    "(x_train, y_train), (x_test, y_test) = mnist.load_data()\n",
    "# 对训练集和测试集的数据进行归一化处理，有助于提升模型训练速度 \n",
    "x_train, x_test = x_train / 255.0, x_test / 255.0\n",
    "# 把训练集和测试集的标签转为独热编码\n",
    "y_train = tf.keras.utils.to_categorical(y_train,num_classes=10)\n",
    "y_test = tf.keras.utils.to_categorical(y_test,num_classes=10)\n",
    "# 载入模型\n",
    "model = load_model('my_model/mnist.h5')"
   ]
  },
  {
   "cell_type": "markdown",
   "metadata": {},
   "source": [
    "- 在Keras框架下执行深度学习任务时，一般会先根据训练数据集训练出模型，然后拿训练好的模型到生产环境（测试集）中部署并生产。以分类问题为例，当训练好了分类模型之后，我们要用这个模型预测测试集中每一个样本的标签，这里有两个常用的方法：predict()方法和predict_classes()方法\n",
    "    - 当使用predict()方法进行预测时，返回值是数值，表示样本属于每一个类别的概率\n",
    "    - 当使用predict_classes()方法进行预测时，返回的是类别的索引，即该样本所属的类别标签"
   ]
  },
  {
   "cell_type": "code",
   "execution_count": 22,
   "metadata": {},
   "outputs": [
    {
     "data": {
      "text/plain": [
       "array([3])"
      ]
     },
     "execution_count": 22,
     "metadata": {},
     "output_type": "execute_result"
    }
   ],
   "source": [
    "#使用模型进行分类\n",
    "model.predict_classes(x_train[10].reshape((1,784)))"
   ]
  },
  {
   "cell_type": "markdown",
   "metadata": {},
   "source": [
    "- SavedModel 保存模型\n",
    "    - SavedModel 是 Tensorflow 中一种模型格式，SavedModel 的优点是与语言无关，比 如可以用时 python 训练模型，然后在 Jave 中非常方便的加载模型。SavedModel 中包含了 计算图和网络的权值，一个 SavedModel 模型包含以下内容:\n",
    "        - assets/ \n",
    "        - saved_model.pb \n",
    "        - variables/\n",
    "            - 其中 saved_model.pb 包含计算图结构(网络层，神经元等可视化架构图)\n",
    "            - variables 文件夹保存模型训练得到的权值。\n",
    "            - assets 文件夹一般是空的，可以添加一些可能需要的外部文件。\n",
    "        - 假设程序中训练好的模型为 model，那么可以使用:\n",
    "            - model.save('path_to_saved_model')来保存模型\n",
    "            - 注意这里的'path_to_saved_model'为模型保存的路径，保存后会得到一个文件夹，所以'path_to_saved_model'不需要加后缀\n",
    "            "
   ]
  },
  {
   "cell_type": "code",
   "execution_count": 4,
   "metadata": {
    "collapsed": true
   },
   "outputs": [
    {
     "name": "stdout",
     "output_type": "stream",
     "text": [
      "Epoch 1/5\n",
      "1875/1875 [==============================] - 2s 1ms/step - loss: 0.0372 - accuracy: 0.7811 - val_loss: 0.0215 - val_accuracy: 0.8796\n",
      "Epoch 2/5\n",
      "1875/1875 [==============================] - 2s 1ms/step - loss: 0.0203 - accuracy: 0.8805 - val_loss: 0.0177 - val_accuracy: 0.8950\n",
      "Epoch 3/5\n",
      "1875/1875 [==============================] - 2s 1ms/step - loss: 0.0177 - accuracy: 0.8928 - val_loss: 0.0160 - val_accuracy: 0.9033\n",
      "Epoch 4/5\n",
      "1875/1875 [==============================] - 3s 1ms/step - loss: 0.0164 - accuracy: 0.8997 - val_loss: 0.0151 - val_accuracy: 0.9087\n",
      "Epoch 5/5\n",
      "1875/1875 [==============================] - 2s 1ms/step - loss: 0.0156 - accuracy: 0.9037 - val_loss: 0.0145 - val_accuracy: 0.9114\n",
      "WARNING:tensorflow:From /Users/bobo/anaconda3/lib/python3.7/site-packages/tensorflow/python/training/tracking/tracking.py:111: Model.state_updates (from tensorflow.python.keras.engine.training) is deprecated and will be removed in a future version.\n",
      "Instructions for updating:\n",
      "This property should not be used in TensorFlow 2.0, as updates are applied automatically.\n",
      "WARNING:tensorflow:From /Users/bobo/anaconda3/lib/python3.7/site-packages/tensorflow/python/training/tracking/tracking.py:111: Layer.updates (from tensorflow.python.keras.engine.base_layer) is deprecated and will be removed in a future version.\n",
      "Instructions for updating:\n",
      "This property should not be used in TensorFlow 2.0, as updates are applied automatically.\n",
      "INFO:tensorflow:Assets written to: path_to_saved_model/assets\n"
     ]
    }
   ],
   "source": [
    "import tensorflow as tf\n",
    "from tensorflow.keras.optimizers import SGD\n",
    "# 载入数据集\n",
    "mnist = tf.keras.datasets.mnist\n",
    "# 载入数据，数据载入的时候就已经划分好训练集和测试集\n",
    "(x_train, y_train), (x_test, y_test) = mnist.load_data()\n",
    "# 对训练集和测试集的数据进行归一化处理，有助于提升模型训练速度 \n",
    "x_train, x_test = x_train / 255.0, x_test / 255.0\n",
    "# 把训练集和测试集的标签转为独热编码\n",
    "y_train = tf.keras.utils.to_categorical(y_train,num_classes=10)\n",
    "y_test = tf.keras.utils.to_categorical(y_test,num_classes=10)\n",
    "# 模型定义\n",
    "model = tf.keras.models.Sequential([\n",
    "tf.keras.layers.Flatten(input_shape=(28, 28)),\n",
    "tf.keras.layers.Dense(10, activation='softmax') ])\n",
    "# 定义优化器，代价函数\n",
    "sgd = SGD(0.2) \n",
    "model.compile(optimizer=sgd,\n",
    "                loss='mse',\n",
    "                metrics=['accuracy'])\n",
    "# 传入训练集数据和标签训练模型\n",
    "model.fit(x_train, y_train, epochs=5, batch_size=32, validation_data=(x_test,y_test))\n",
    "\n",
    "# 保存模型 \n",
    "model.save('path_to_saved_model')\n"
   ]
  },
  {
   "cell_type": "markdown",
   "metadata": {},
   "source": [
    "- SavedModel 载入模型\n",
    "    - SavedModel 模型的载入也很简单，也是使用:\n",
    "        - tensorflow.keras.models.load_model('path_to_my_model')"
   ]
  },
  {
   "cell_type": "code",
   "execution_count": 5,
   "metadata": {
    "collapsed": true
   },
   "outputs": [
    {
     "name": "stdout",
     "output_type": "stream",
     "text": [
      "Epoch 1/5\n",
      "1875/1875 [==============================] - 2s 1ms/step - loss: 0.0151 - accuracy: 0.9073 - val_loss: 0.0141 - val_accuracy: 0.9123\n",
      "Epoch 2/5\n",
      "1875/1875 [==============================] - 2s 1ms/step - loss: 0.0146 - accuracy: 0.9100 - val_loss: 0.0138 - val_accuracy: 0.9138\n",
      "Epoch 3/5\n",
      "1875/1875 [==============================] - 3s 1ms/step - loss: 0.0143 - accuracy: 0.9112 - val_loss: 0.0135 - val_accuracy: 0.9150\n",
      "Epoch 4/5\n",
      "1875/1875 [==============================] - 3s 1ms/step - loss: 0.0140 - accuracy: 0.9130 - val_loss: 0.0133 - val_accuracy: 0.9159\n",
      "Epoch 5/5\n",
      "1875/1875 [==============================] - 3s 1ms/step - loss: 0.0137 - accuracy: 0.9143 - val_loss: 0.0131 - val_accuracy: 0.9176\n"
     ]
    },
    {
     "data": {
      "text/plain": [
       "<tensorflow.python.keras.callbacks.History at 0xb8feb4198>"
      ]
     },
     "execution_count": 5,
     "metadata": {},
     "output_type": "execute_result"
    }
   ],
   "source": [
    "import tensorflow as tf\n",
    "from tensorflow.keras.models import load_model\n",
    "# 载入数据集\n",
    "mnist = tf.keras.datasets.mnist\n",
    "# 载入数据，数据载入的时候就已经划分好训练集和测试集\n",
    "(x_train, y_train), (x_test, y_test) = mnist.load_data()\n",
    "# 对训练集和测试集的数据进行归一化处理，有助于提升模型训练速度 \n",
    "x_train, x_test = x_train / 255.0, x_test / 255.0\n",
    "# 把训练集和测试集的标签转为独热编码\n",
    "y_train = tf.keras.utils.to_categorical(y_train,num_classes=10)\n",
    "y_test = tf.keras.utils.to_categorical(y_test,num_classes=10)\n",
    "# 载入模型\n",
    "model = load_model('path_to_saved_model')\n",
    "# 再训练 5 个周期模型\n",
    "model.fit(x_train, y_train, epochs=5, batch_size=32, validation_data=(x_test,y_test))"
   ]
  },
  {
   "cell_type": "code",
   "execution_count": null,
   "metadata": {},
   "outputs": [],
   "source": []
  }
 ],
 "metadata": {
  "kernelspec": {
   "display_name": "Python 3 (ipykernel)",
   "language": "python",
   "name": "python3"
  },
  "language_info": {
   "codemirror_mode": {
    "name": "ipython",
    "version": 3
   },
   "file_extension": ".py",
   "mimetype": "text/x-python",
   "name": "python",
   "nbconvert_exporter": "python",
   "pygments_lexer": "ipython3",
   "version": "3.9.7"
  }
 },
 "nbformat": 4,
 "nbformat_minor": 2
}
