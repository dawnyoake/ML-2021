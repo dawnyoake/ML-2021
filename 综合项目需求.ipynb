{
 "cells": [
  {
   "cell_type": "code",
   "execution_count": 3,
   "metadata": {},
   "outputs": [],
   "source": [
    "import numpy as np\n",
    "import pandas as pd\n",
    "from pandas import DataFrame,Series\n",
    "import matplotlib.pyplot as plt\n",
    "#数据文件：CDNOW_master.txt"
   ]
  },
  {
   "cell_type": "markdown",
   "metadata": {},
   "source": [
    "\n",
    "### 第一部分：数据类型处理\n",
    "- 数据加载\n",
    "    - 字段含义：\n",
    "        - user_id:用户ID\n",
    "        - order_dt:购买日期\n",
    "        - order_product:购买产品的数量\n",
    "        - order_amount:购买金额\n",
    "- 观察数据\n",
    "    - 查看数据的数据类型\n",
    "    - 数据中是否存储在缺失值\n",
    "    - 将order_dt转换成时间类型\n",
    "    - 查看数据的统计描述\n",
    "    - 在源数据中添加一列表示月份:astype('datetime64[M]')"
   ]
  },
  {
   "cell_type": "code",
   "execution_count": 5,
   "metadata": {},
   "outputs": [
    {
     "data": {
      "text/html": [
       "<div>\n",
       "<style scoped>\n",
       "    .dataframe tbody tr th:only-of-type {\n",
       "        vertical-align: middle;\n",
       "    }\n",
       "\n",
       "    .dataframe tbody tr th {\n",
       "        vertical-align: top;\n",
       "    }\n",
       "\n",
       "    .dataframe thead th {\n",
       "        text-align: right;\n",
       "    }\n",
       "</style>\n",
       "<table border=\"1\" class=\"dataframe\">\n",
       "  <thead>\n",
       "    <tr style=\"text-align: right;\">\n",
       "      <th></th>\n",
       "      <th>user_id</th>\n",
       "      <th>order_dt</th>\n",
       "      <th>order_product</th>\n",
       "      <th>order_amount</th>\n",
       "    </tr>\n",
       "  </thead>\n",
       "  <tbody>\n",
       "    <tr>\n",
       "      <th>0</th>\n",
       "      <td>1</td>\n",
       "      <td>19970101</td>\n",
       "      <td>1</td>\n",
       "      <td>11.77</td>\n",
       "    </tr>\n",
       "    <tr>\n",
       "      <th>1</th>\n",
       "      <td>2</td>\n",
       "      <td>19970112</td>\n",
       "      <td>1</td>\n",
       "      <td>12.00</td>\n",
       "    </tr>\n",
       "    <tr>\n",
       "      <th>2</th>\n",
       "      <td>2</td>\n",
       "      <td>19970112</td>\n",
       "      <td>5</td>\n",
       "      <td>77.00</td>\n",
       "    </tr>\n",
       "    <tr>\n",
       "      <th>3</th>\n",
       "      <td>3</td>\n",
       "      <td>19970102</td>\n",
       "      <td>2</td>\n",
       "      <td>20.76</td>\n",
       "    </tr>\n",
       "    <tr>\n",
       "      <th>4</th>\n",
       "      <td>3</td>\n",
       "      <td>19970330</td>\n",
       "      <td>2</td>\n",
       "      <td>20.76</td>\n",
       "    </tr>\n",
       "  </tbody>\n",
       "</table>\n",
       "</div>"
      ],
      "text/plain": [
       "   user_id  order_dt  order_product  order_amount\n",
       "0        1  19970101              1         11.77\n",
       "1        2  19970112              1         12.00\n",
       "2        2  19970112              5         77.00\n",
       "3        3  19970102              2         20.76\n",
       "4        3  19970330              2         20.76"
      ]
     },
     "execution_count": 5,
     "metadata": {},
     "output_type": "execute_result"
    }
   ],
   "source": [
    "df = pd.read_csv('./data/CDNOW_master.txt',header=None,sep='\\s+',names=['user_id','order_dt','order_product','order_amount'])\n",
    "df.head()"
   ]
  },
  {
   "cell_type": "markdown",
   "metadata": {},
   "source": [
    "### 第二部分：按月数据分析\n",
    "- 用户每月花费的总金额\n",
    "    - 绘制曲线图展示\n",
    "- 所有用户每月的产品购买量\n",
    "- 所有用户每月的消费总次数\n",
    "- 统计每月的消费人数"
   ]
  },
  {
   "cell_type": "markdown",
   "metadata": {},
   "source": [
    "### 第三部分：用户个体消费数据分析\n",
    "- 各个用户消费金额和消费产品数量的散点图\n",
    "- 各个用户消费总金额的直方分布图(消费金额在1000之内的分布)\n",
    "- 各个用户消费的总数量的直方分布图(消费商品的数量在100次之内的分布)"
   ]
  },
  {
   "cell_type": "markdown",
   "metadata": {},
   "source": [
    "### 第四部分：用户消费行为分析\n",
    "- 用户第一次消费的月份分布，和人数统计\n",
    "    - 绘制线形图\n",
    "- 用户最后一次消费的时间分布，和人数统计\n",
    "    - 绘制线形图\n",
    "- 新老客户的占比\n",
    "    - 消费一次为新用户\n",
    "    - 消费多次为老用户\n",
    "        - 分析出每一个用户的第一个消费和最后一次消费的时间\n",
    "            - agg(['func1','func2']):对分组后的结果进行指定多种形式的聚合\n",
    "        - 分析出新老客户的消费比例\n"
   ]
  },
  {
   "cell_type": "markdown",
   "metadata": {},
   "source": [
    "### 第五部分：用户的生命周期\n",
    "- 将用户划分为活跃用户和其他用户\n",
    "    - 统计每个用户每个月的消费次数\n",
    "    - 统计每个用户每个月是否消费，消费记录为1否则记录为0\n",
    "        - 知识点：DataFrame的apply和applymap的区别\n",
    "            - applymap:返回df\n",
    "            - 将函数做用于DataFrame中的所有元素(elements)\n",
    "            - apply:返回Series\n",
    "            - apply()将一个函数作用于DataFrame中的每个行或者列\n",
    "   "
   ]
  }
 ],
 "metadata": {
  "kernelspec": {
   "display_name": "Python 3",
   "language": "python",
   "name": "python3"
  },
  "language_info": {
   "codemirror_mode": {
    "name": "ipython",
    "version": 3
   },
   "file_extension": ".py",
   "mimetype": "text/x-python",
   "name": "python",
   "nbconvert_exporter": "python",
   "pygments_lexer": "ipython3",
   "version": "3.8.5"
  }
 },
 "nbformat": 4,
 "nbformat_minor": 2
}
